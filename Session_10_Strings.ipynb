{
  "nbformat": 4,
  "nbformat_minor": 0,
  "metadata": {
    "colab": {
      "provenance": [],
      "authorship_tag": "ABX9TyMMpTHEzBpd7wGmoNq+XG6m",
      "include_colab_link": true
    },
    "kernelspec": {
      "name": "python3",
      "display_name": "Python 3"
    },
    "language_info": {
      "name": "python"
    }
  },
  "cells": [
    {
      "cell_type": "markdown",
      "metadata": {
        "id": "view-in-github",
        "colab_type": "text"
      },
      "source": [
        "<a href=\"https://colab.research.google.com/github/Thilagavijayan/Python_Through_Examples/blob/main/Session_10_Strings.ipynb\" target=\"_parent\"><img src=\"https://colab.research.google.com/assets/colab-badge.svg\" alt=\"Open In Colab\"/></a>"
      ]
    },
    {
      "cell_type": "code",
      "execution_count": 5,
      "metadata": {
        "colab": {
          "base_uri": "https://localhost:8080/"
        },
        "id": "X1NibN_zefvE",
        "outputId": "a3683c3d-cb6e-4637-9127-81fde37a281b"
      },
      "outputs": [
        {
          "output_type": "stream",
          "name": "stdout",
          "text": [
            "margor\n"
          ]
        }
      ],
      "source": [
        "# array slicing\n",
        "a = \" Python Program \"\n",
        "print(a[14:8:-1])"
      ]
    },
    {
      "cell_type": "code",
      "source": [
        "# using slice() --> slice(start,stop,step)\n",
        "a = \"Python programming\"\n",
        "sliced_word = slice(7,12)\n",
        "res = a[sliced_word]\n",
        "print(res)"
      ],
      "metadata": {
        "colab": {
          "base_uri": "https://localhost:8080/"
        },
        "id": "gbgsZde-hQzm",
        "outputId": "108df35f-243c-447e-97c5-58d34802e98d"
      },
      "execution_count": 7,
      "outputs": [
        {
          "output_type": "stream",
          "name": "stdout",
          "text": [
            "progr\n"
          ]
        }
      ]
    },
    {
      "cell_type": "code",
      "source": [
        "# Reverse string using slice()\n",
        "text = \"python\"\n",
        "slice_word = slice(None,0,-2) #a[::-1]\n",
        "result = text[slice_word]\n",
        "print(result)"
      ],
      "metadata": {
        "colab": {
          "base_uri": "https://localhost:8080/"
        },
        "id": "at01yKrKjzzX",
        "outputId": "adad7e9a-be48-411e-9509-cf605c96c5f9"
      },
      "execution_count": 19,
      "outputs": [
        {
          "output_type": "stream",
          "name": "stdout",
          "text": [
            "nhy\n"
          ]
        }
      ]
    },
    {
      "cell_type": "code",
      "source": [
        "# Even indexed string -->0,2,4\n",
        "text = \"python\"\n",
        "slice_word = slice(0,None,2) #a[::-1]\n",
        "result = text[slice_word]\n",
        "print(result)"
      ],
      "metadata": {
        "colab": {
          "base_uri": "https://localhost:8080/"
        },
        "id": "nRzIBFBZkXu2",
        "outputId": "f1a73fe8-a696-42e3-d47b-a7e11d0e0a32"
      },
      "execution_count": 9,
      "outputs": [
        {
          "output_type": "stream",
          "name": "stdout",
          "text": [
            "pto\n"
          ]
        }
      ]
    },
    {
      "cell_type": "markdown",
      "source": [
        "String Methods"
      ],
      "metadata": {
        "id": "JIDA9WKjkp6W"
      }
    },
    {
      "cell_type": "code",
      "source": [
        "# upper and #lower\n",
        "text = \"HelloWorld\"\n",
        "lower_case = text.lower()\n",
        "upper_case = text.upper()\n",
        "print(lower_case)\n",
        "print(upper_case)"
      ],
      "metadata": {
        "colab": {
          "base_uri": "https://localhost:8080/"
        },
        "id": "1muZW_WWkn7X",
        "outputId": "2ba64eda-fc8b-4d6b-a438-dee8756a44dd"
      },
      "execution_count": 20,
      "outputs": [
        {
          "output_type": "stream",
          "name": "stdout",
          "text": [
            "helloworld\n",
            "HELLOWORLD\n"
          ]
        }
      ]
    },
    {
      "cell_type": "code",
      "source": [
        "#strip\n",
        "text = \" HelloWorld \"\n",
        "strip_text = text.strip()\n",
        "print(strip_text)"
      ],
      "metadata": {
        "colab": {
          "base_uri": "https://localhost:8080/"
        },
        "id": "LLDLId3hnCe6",
        "outputId": "0e996045-0a38-4ad6-c77f-3cf87adbb4ff"
      },
      "execution_count": 21,
      "outputs": [
        {
          "output_type": "stream",
          "name": "stdout",
          "text": [
            "HelloWorld\n"
          ]
        }
      ]
    },
    {
      "cell_type": "code",
      "source": [
        "#lstrip and rstrip\n",
        "text = \"HelloWorld\"\n",
        "strip_text = text.lstrip(\"eH\")\n",
        "print(strip_text)"
      ],
      "metadata": {
        "colab": {
          "base_uri": "https://localhost:8080/"
        },
        "id": "lPPn0I_cnklM",
        "outputId": "ac693054-77d3-4cc2-c3c6-9796822d8611"
      },
      "execution_count": 24,
      "outputs": [
        {
          "output_type": "stream",
          "name": "stdout",
          "text": [
            "lloWorld\n"
          ]
        }
      ]
    },
    {
      "cell_type": "code",
      "source": [
        "# split()\n",
        "a = \"This is a Python class\"\n",
        "splitted_text = a.split(\" \")\n",
        "print(splitted_text)"
      ],
      "metadata": {
        "colab": {
          "base_uri": "https://localhost:8080/"
        },
        "id": "Ui4GqTd8oT81",
        "outputId": "98a997fa-ad93-47ba-81fe-e832910695fd"
      },
      "execution_count": 26,
      "outputs": [
        {
          "output_type": "stream",
          "name": "stdout",
          "text": [
            "['This', 'is', 'a', 'Python', 'class']\n"
          ]
        }
      ]
    },
    {
      "cell_type": "code",
      "source": [
        "#join()\n",
        "a = ['This' 'is' 'a' 'Python' 'class']\n",
        "joined_text = \" \".join(a)\n",
        "print(joined_text)"
      ],
      "metadata": {
        "colab": {
          "base_uri": "https://localhost:8080/"
        },
        "id": "l3uI5fpLpqpz",
        "outputId": "835d8c41-67b1-4c62-f269-60cdbb787126"
      },
      "execution_count": 29,
      "outputs": [
        {
          "output_type": "stream",
          "name": "stdout",
          "text": [
            "ThisisaPythonclass\n"
          ]
        }
      ]
    },
    {
      "cell_type": "code",
      "source": [
        "# Startswith and endswith\n",
        "a = \"Hello World\"\n",
        "Starts = a.startswith(\"Hello\")\n",
        "ends = a.endswith(\"Hello\")\n",
        "print(Starts)\n",
        "print(ends)"
      ],
      "metadata": {
        "colab": {
          "base_uri": "https://localhost:8080/"
        },
        "id": "icnnwRPLqVwH",
        "outputId": "aabbcb88-aac5-4ac5-98ad-5e163d53074d"
      },
      "execution_count": 31,
      "outputs": [
        {
          "output_type": "stream",
          "name": "stdout",
          "text": [
            "True\n",
            "False\n"
          ]
        }
      ]
    },
    {
      "cell_type": "code",
      "source": [
        "# replace \n",
        "a = \"Hello World\"\n",
        "new = a.replace(\"Hello\", \"Hi\")\n",
        "print(new)"
      ],
      "metadata": {
        "colab": {
          "base_uri": "https://localhost:8080/"
        },
        "id": "_eoOT9aarGjZ",
        "outputId": "a4d18613-e1f8-469a-e303-dfc61209eb65"
      },
      "execution_count": 32,
      "outputs": [
        {
          "output_type": "stream",
          "name": "stdout",
          "text": [
            "Hi World\n"
          ]
        }
      ]
    },
    {
      "cell_type": "code",
      "source": [
        "# find and index\n",
        "a = \"Hello world\"\n",
        "index1 = a.find(\"world\")# print the output index value using find\n",
        "index2 = a.index(\"Hello\")# print the output index value using find\n",
        "print(index1)\n",
        "print(index2)"
      ],
      "metadata": {
        "colab": {
          "base_uri": "https://localhost:8080/"
        },
        "id": "xijfL4XprZTc",
        "outputId": "746d5ad9-3a68-44c0-c08a-60710e83be64"
      },
      "execution_count": 34,
      "outputs": [
        {
          "output_type": "stream",
          "name": "stdout",
          "text": [
            "6\n",
            "0\n"
          ]
        }
      ]
    }
  ]
}