{
  "nbformat": 4,
  "nbformat_minor": 0,
  "metadata": {
    "colab": {
      "provenance": [],
      "authorship_tag": "ABX9TyPS+pBBVAKPXox9QlhgcolY",
      "include_colab_link": true
    },
    "kernelspec": {
      "name": "python3",
      "display_name": "Python 3"
    },
    "language_info": {
      "name": "python"
    }
  },
  "cells": [
    {
      "cell_type": "markdown",
      "metadata": {
        "id": "view-in-github",
        "colab_type": "text"
      },
      "source": [
        "<a href=\"https://colab.research.google.com/github/Thilagavijayan/Python_Examples_from_basics/blob/main/Session_8_Functions-I.ipynb\" target=\"_parent\"><img src=\"https://colab.research.google.com/assets/colab-badge.svg\" alt=\"Open In Colab\"/></a>"
      ]
    },
    {
      "cell_type": "markdown",
      "source": [
        "\n",
        "\n",
        "1.   function call without parameters\n",
        "2. return( )\n",
        "3. without return( )\n",
        "4. Internally returns None\n",
        "5. function call using parameters\n",
        "6. Using of functions multiple times\n",
        "7. Function using default parameters\n",
        "8. Area of circle program\n",
        "9. example programs for builtin functions\n",
        "\n"
      ],
      "metadata": {
        "id": "Hz9RE2CxEIHH"
      }
    },
    {
      "cell_type": "code",
      "source": [
        "def add(): # non void\n",
        "  a = int(input(\"Enter a value 1 : \")) #Function Definition\n",
        "  b = int(input(\"Enter a value 2 : \"))\n",
        "  return a+b # return the output where the user called\n",
        "\n",
        "print(add()) # FUnction call #9"
      ],
      "metadata": {
        "colab": {
          "base_uri": "https://localhost:8080/"
        },
        "id": "Z3QvVkdgEH3z",
        "outputId": "98fea7b0-ae94-4473-f387-def166293f3f"
      },
      "execution_count": null,
      "outputs": [
        {
          "output_type": "stream",
          "name": "stdout",
          "text": [
            "Enter a value 1 : 4\n",
            "Enter a value 2 : 5\n",
            "9\n"
          ]
        }
      ]
    },
    {
      "cell_type": "code",
      "source": [
        "def add(): # void\n",
        "  a = int(input(\"Enter a value 1 : \")) #Function Definition\n",
        "  b = int(input(\"Enter a value 2 : \"))\n",
        "  print(a+b) \n",
        "\n",
        "add()\n"
      ],
      "metadata": {
        "colab": {
          "base_uri": "https://localhost:8080/"
        },
        "id": "eiorCmLJG3cP",
        "outputId": "d12c5dfd-d89b-4d87-9c78-8e945541e8ed"
      },
      "execution_count": null,
      "outputs": [
        {
          "output_type": "stream",
          "name": "stdout",
          "text": [
            "Enter a value 1 : 4\n",
            "Enter a value 2 : 5\n",
            "9\n"
          ]
        }
      ]
    },
    {
      "cell_type": "code",
      "execution_count": null,
      "metadata": {
        "colab": {
          "base_uri": "https://localhost:8080/"
        },
        "id": "FPMNF5BjEDhC",
        "outputId": "9f1e7461-dcaa-4bce-c1cd-d3811ae03f86"
      },
      "outputs": [
        {
          "output_type": "stream",
          "name": "stdout",
          "text": [
            "Enter a value 1 : 4\n",
            "Enter a value 2 : 5\n",
            "11\n"
          ]
        }
      ],
      "source": [
        "def add(a,b):\n",
        "  return (a+b)\n",
        "\n",
        "a = int(input(\"Enter a value 1 : \")) \n",
        "b = int(input(\"Enter a value 2 : \"))\n",
        "\n",
        "# print(add(a,b))\n",
        "print(add(5,6))"
      ]
    },
    {
      "cell_type": "code",
      "source": [
        "def add(a,b=2):\n",
        "  return (a+b)\n",
        "\n",
        "print(add(7,9))"
      ],
      "metadata": {
        "colab": {
          "base_uri": "https://localhost:8080/"
        },
        "id": "OpACORfbL0hN",
        "outputId": "ec911b96-6097-4131-e814-f24249f3edbf"
      },
      "execution_count": null,
      "outputs": [
        {
          "output_type": "stream",
          "name": "stdout",
          "text": [
            "16\n"
          ]
        }
      ]
    },
    {
      "cell_type": "markdown",
      "source": [
        "Area of the circle = pi * r * r"
      ],
      "metadata": {
        "id": "6e6nqqTFMYnW"
      }
    },
    {
      "cell_type": "code",
      "source": [
        "import math \n",
        "def area(radius): #4\n",
        "  area = math.pi * radius ** 2 \n",
        "  return area\n",
        "\n",
        "print(round(area(3)))\n"
      ],
      "metadata": {
        "colab": {
          "base_uri": "https://localhost:8080/"
        },
        "id": "mXq8S5PFMWx4",
        "outputId": "e4ee2922-a3b4-4de6-e769-7b6986565cc2"
      },
      "execution_count": null,
      "outputs": [
        {
          "output_type": "stream",
          "name": "stdout",
          "text": [
            "28\n"
          ]
        }
      ]
    },
    {
      "cell_type": "code",
      "source": [
        "# max = maximum and min = minimum\n",
        "n = [3,5,6,7,9]\n",
        "# max_value = max(n)\n",
        "# min_value = min(n)\n",
        "print(max(n))\n",
        "print(min(n))"
      ],
      "metadata": {
        "colab": {
          "base_uri": "https://localhost:8080/"
        },
        "id": "RV-J6mCSNsFW",
        "outputId": "43b3b58a-4a47-49cb-fa84-90f28b125ff5"
      },
      "execution_count": null,
      "outputs": [
        {
          "output_type": "stream",
          "name": "stdout",
          "text": [
            "9\n",
            "3\n"
          ]
        }
      ]
    },
    {
      "cell_type": "code",
      "source": [
        "# sort\n",
        "n = [5,2,4,8,0,1]\n",
        "n.sort()\n",
        "print(n)"
      ],
      "metadata": {
        "colab": {
          "base_uri": "https://localhost:8080/"
        },
        "id": "V_Sa7P4NOVPP",
        "outputId": "df8130cb-c2ad-45fa-e5bb-d217f8a34340"
      },
      "execution_count": null,
      "outputs": [
        {
          "output_type": "stream",
          "name": "stdout",
          "text": [
            "[0, 1, 2, 4, 5, 8]\n"
          ]
        }
      ]
    },
    {
      "cell_type": "code",
      "source": [
        "#sum\n",
        "n = [5,2,4,8,0,1]\n",
        "sum_values = sum(n)\n",
        "print(sum_values)"
      ],
      "metadata": {
        "colab": {
          "base_uri": "https://localhost:8080/"
        },
        "id": "xSPS8X_VOm04",
        "outputId": "c19354e5-6815-4ee9-f62a-149fe1d6962f"
      },
      "execution_count": null,
      "outputs": [
        {
          "output_type": "stream",
          "name": "stdout",
          "text": [
            "20\n"
          ]
        }
      ]
    },
    {
      "cell_type": "code",
      "source": [
        "# Round\n",
        "n = 3.245678\n",
        "round_value = round(n,2 )\n",
        "print(round_value)"
      ],
      "metadata": {
        "colab": {
          "base_uri": "https://localhost:8080/"
        },
        "id": "ZNQVuRpFO2f1",
        "outputId": "d07270f2-d2ca-49e7-cadc-9544b1de2df6"
      },
      "execution_count": null,
      "outputs": [
        {
          "output_type": "stream",
          "name": "stdout",
          "text": [
            "3.25\n"
          ]
        }
      ]
    },
    {
      "cell_type": "code",
      "source": [],
      "metadata": {
        "id": "ydUNATHMPSIr"
      },
      "execution_count": null,
      "outputs": []
    }
  ]
}