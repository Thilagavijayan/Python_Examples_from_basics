{
  "nbformat": 4,
  "nbformat_minor": 0,
  "metadata": {
    "colab": {
      "provenance": [],
      "authorship_tag": "ABX9TyNAmD3Nz9PNrligqvlVmJda",
      "include_colab_link": true
    },
    "kernelspec": {
      "name": "python3",
      "display_name": "Python 3"
    },
    "language_info": {
      "name": "python"
    }
  },
  "cells": [
    {
      "cell_type": "markdown",
      "metadata": {
        "id": "view-in-github",
        "colab_type": "text"
      },
      "source": [
        "<a href=\"https://colab.research.google.com/github/Thilagavijayan/Python_Examples_from_basics/blob/main/Session_4_Conditional_Statements.ipynb\" target=\"_parent\"><img src=\"https://colab.research.google.com/assets/colab-badge.svg\" alt=\"Open In Colab\"/></a>"
      ]
    },
    {
      "cell_type": "markdown",
      "source": [
        "\n",
        "\n",
        "1.   FIND IT IS AN EVEN(if )\n",
        "2. ODD OR EVEN (if - else)\n",
        "3. VOTING SYSTEM (if else)\n",
        "4. GRADING SYSTEM (elif) (nested if)\n",
        "5. GREATEST OF ALL NUMBERS (nested if)\n",
        "\n"
      ],
      "metadata": {
        "id": "Lr0p3IjVD__r"
      }
    },
    {
      "cell_type": "markdown",
      "source": [
        "\n",
        "\n",
        "1.   even numbers --> 2,4,6,8,.... ---> multiples/divisible  of 2\n",
        "2.   odd numbers --> 1,3,5,... ---> not multiples of 2 \n",
        "3.  arithmetic operators(%) --> returns the remainder value \n",
        "4. num = 5,num % 2 == 0\n",
        "\n",
        "\n"
      ],
      "metadata": {
        "id": "PIq-zkkBEeTi"
      }
    },
    {
      "cell_type": "code",
      "source": [
        "print(4%2) # returns the remainder"
      ],
      "metadata": {
        "colab": {
          "base_uri": "https://localhost:8080/"
        },
        "id": "qHp4Jx0rFw0M",
        "outputId": "51ecd5c7-6fe6-4bab-fae8-4f3528fac25d"
      },
      "execution_count": null,
      "outputs": [
        {
          "output_type": "stream",
          "name": "stdout",
          "text": [
            "0\n"
          ]
        }
      ]
    },
    {
      "cell_type": "code",
      "source": [
        "print(5%2)"
      ],
      "metadata": {
        "colab": {
          "base_uri": "https://localhost:8080/"
        },
        "id": "C2bCcLKUGC6H",
        "outputId": "75204b75-4f7b-4611-cd82-97699eb8cb74"
      },
      "execution_count": null,
      "outputs": [
        {
          "output_type": "stream",
          "name": "stdout",
          "text": [
            "1\n"
          ]
        }
      ]
    },
    {
      "cell_type": "code",
      "execution_count": null,
      "metadata": {
        "colab": {
          "base_uri": "https://localhost:8080/"
        },
        "id": "_kIn30dt86Eg",
        "outputId": "4cfc5d07-cb0b-49a6-8354-b9f8c54121be"
      },
      "outputs": [
        {
          "output_type": "stream",
          "name": "stdout",
          "text": [
            "number is even\n"
          ]
        }
      ],
      "source": [
        "a = 6\n",
        "if a % 2 ==0:\n",
        "  print(\"number is even\")\n",
        "else :\n",
        "  print(\"number is odd\")"
      ]
    },
    {
      "cell_type": "code",
      "source": [
        "# find the eligibility of Voting \n",
        "age = 40\n",
        "if age >= 18:\n",
        "  print(\"You r eligible to vote\")\n",
        "else :\n",
        "  print(\"Sorry!You r not eligible\")"
      ],
      "metadata": {
        "colab": {
          "base_uri": "https://localhost:8080/"
        },
        "id": "ikwWINrdG52T",
        "outputId": "44aa2581-7ce5-4a94-aad8-521d85a473fe"
      },
      "execution_count": null,
      "outputs": [
        {
          "output_type": "stream",
          "name": "stdout",
          "text": [
            "You r eligible to vote\n"
          ]
        }
      ]
    },
    {
      "cell_type": "code",
      "source": [
        "# Grading System\n",
        "marks = 75\n",
        "#85-100 --> A\n",
        "if marks > 85 and marks <= 100: \n",
        "  print(\"You got A grade\")\n",
        "# 60-85 --> B\n",
        "elif marks > 60 and marks <= 85:\n",
        "  print(\"You got B grade\")\n",
        "# 40 - 60 --> c\n",
        "elif marks > 40 and marks < 60:\n",
        "  print(\"You got C grade\")\n",
        "# otherwise Fail\n",
        "else:\n",
        "  print(\"You are failed\")"
      ],
      "metadata": {
        "colab": {
          "base_uri": "https://localhost:8080/"
        },
        "id": "L9qQ-d-pHTws",
        "outputId": "cfb2ec3d-d34c-4901-cfc0-7e2b129a8140"
      },
      "execution_count": null,
      "outputs": [
        {
          "output_type": "stream",
          "name": "stdout",
          "text": [
            "You got B grade\n"
          ]
        }
      ]
    },
    {
      "cell_type": "code",
      "source": [
        "# Greatest of 3 integers\n",
        "a = 5\n",
        "b = 6\n",
        "c = 7\n",
        "if a>b and a>c:\n",
        "  print(\"a is largest\")\n",
        "elif b>a and b>c:\n",
        "  print(\"b is largest\")\n",
        "else:\n",
        "  print(\"c is largest\")"
      ],
      "metadata": {
        "colab": {
          "base_uri": "https://localhost:8080/"
        },
        "id": "c5Qk9hBkIamU",
        "outputId": "766e12f0-9dd3-4081-b86d-20e0b3f1b54d"
      },
      "execution_count": null,
      "outputs": [
        {
          "output_type": "stream",
          "name": "stdout",
          "text": [
            "c is largest\n"
          ]
        }
      ]
    },
    {
      "cell_type": "code",
      "source": [
        "marks = 85\n",
        "if marks >= 90:\n",
        "  print(\"A grade\")\n",
        "elif marks >=80:\n",
        "  print(\"B Grade\")\n",
        "elif marks >= 70:\n",
        "  print(\"C Grade\")\n",
        "else:\n",
        "  print(\"D grade\")"
      ],
      "metadata": {
        "colab": {
          "base_uri": "https://localhost:8080/"
        },
        "id": "Q-9J6a0pJKtC",
        "outputId": "93cec0f5-cdfe-4eca-95a9-bc692575aeb0"
      },
      "execution_count": null,
      "outputs": [
        {
          "output_type": "stream",
          "name": "stdout",
          "text": [
            "B Grade\n"
          ]
        }
      ]
    }
  ]
}