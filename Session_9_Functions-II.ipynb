{
  "nbformat": 4,
  "nbformat_minor": 0,
  "metadata": {
    "colab": {
      "provenance": [],
      "authorship_tag": "ABX9TyM2fndT3ujuMmfNQvZOb84M",
      "include_colab_link": true
    },
    "kernelspec": {
      "name": "python3",
      "display_name": "Python 3"
    },
    "language_info": {
      "name": "python"
    }
  },
  "cells": [
    {
      "cell_type": "markdown",
      "metadata": {
        "id": "view-in-github",
        "colab_type": "text"
      },
      "source": [
        "<a href=\"https://colab.research.google.com/github/Thilagavijayan/Python_Examples_from_basics/blob/main/Session_9_Functions-II.ipynb\" target=\"_parent\"><img src=\"https://colab.research.google.com/assets/colab-badge.svg\" alt=\"Open In Colab\"/></a>"
      ]
    },
    {
      "cell_type": "markdown",
      "source": [
        "1. FIND MAX NUM\n",
        "2. FIND THE LENGTH OF THE WORD\n",
        "3. FIND AN AVERAGE NUMBER\n",
        "4. FIND FACTORIAL OF THE NUM\n",
        "5. REVERSE THE GIVEN STRING\n",
        "6. PALINDROME"
      ],
      "metadata": {
        "id": "70gg_moCMgPl"
      }
    },
    {
      "cell_type": "code",
      "execution_count": 1,
      "metadata": {
        "colab": {
          "base_uri": "https://localhost:8080/"
        },
        "id": "_is2z1LXK5v_",
        "outputId": "4c050a37-e8c2-4e91-ff72-871fc1ba682f"
      },
      "outputs": [
        {
          "output_type": "stream",
          "name": "stdout",
          "text": [
            "10 30\n"
          ]
        }
      ],
      "source": [
        "# Required Arguments\n",
        "def display(a,b):\n",
        "  print(a,b)\n",
        "display(a = 10, b = 30) # Giving both values with variable in function call"
      ]
    },
    {
      "cell_type": "code",
      "source": [
        "# Keyword Arguements\n",
        "def display(a,b):\n",
        "  print(a,b)\n",
        "display(b = 10, a = 30) # arguement calling using its keywords"
      ],
      "metadata": {
        "colab": {
          "base_uri": "https://localhost:8080/"
        },
        "id": "Gx1Prm1qPXUK",
        "outputId": "2b320eac-edaf-4fe2-9cc0-8306c9b7378f"
      },
      "execution_count": 2,
      "outputs": [
        {
          "output_type": "stream",
          "name": "stdout",
          "text": [
            "30 10\n"
          ]
        }
      ]
    },
    {
      "cell_type": "code",
      "source": [
        "# Variable Length Arguements\n",
        "def display(*courses):\n",
        "  for i in courses:\n",
        "    print(i)\n",
        "display(\"B.E\",\"B tech\",\"M.E\",\"M tech\")    "
      ],
      "metadata": {
        "colab": {
          "base_uri": "https://localhost:8080/"
        },
        "id": "oqhkRIDjPyuL",
        "outputId": "6fe3641a-3333-4a62-e097-e59debae48d1"
      },
      "execution_count": 5,
      "outputs": [
        {
          "output_type": "stream",
          "name": "stdout",
          "text": [
            "B.E\n",
            "B tech\n",
            "M.E\n",
            "M tech\n"
          ]
        }
      ]
    },
    {
      "cell_type": "code",
      "source": [
        "# Default Arguements\n",
        "def display(a,b=3):\n",
        "  print(a,b)\n",
        "display(2,5)\n",
        "display(9)  "
      ],
      "metadata": {
        "colab": {
          "base_uri": "https://localhost:8080/"
        },
        "id": "qyu_nU9rQ-bH",
        "outputId": "635389db-0a38-412e-9e4b-a3bb3dcd712b"
      },
      "execution_count": 6,
      "outputs": [
        {
          "output_type": "stream",
          "name": "stdout",
          "text": [
            "2 5\n",
            "9 3\n"
          ]
        }
      ]
    },
    {
      "cell_type": "code",
      "source": [
        "# Maximum number\n",
        "def max_num(list):\n",
        "  return max(list)\n",
        "print(max_num([6,4,8,9,10]))  \n"
      ],
      "metadata": {
        "colab": {
          "base_uri": "https://localhost:8080/"
        },
        "id": "np6zkFiLRZ9g",
        "outputId": "609ea3b3-a808-4e0f-99e3-bcc024e2adbd"
      },
      "execution_count": 7,
      "outputs": [
        {
          "output_type": "stream",
          "name": "stdout",
          "text": [
            "10\n"
          ]
        }
      ]
    },
    {
      "cell_type": "code",
      "source": [
        "# Length of the word\n",
        "def length_word(text):\n",
        "  return len(text)\n",
        "print(length_word(\"HelloWorld\"))"
      ],
      "metadata": {
        "colab": {
          "base_uri": "https://localhost:8080/"
        },
        "id": "Cg_WypM5SKZX",
        "outputId": "9d888cde-4069-42d7-8a68-48ad97ff4006"
      },
      "execution_count": 8,
      "outputs": [
        {
          "output_type": "stream",
          "name": "stdout",
          "text": [
            "10\n"
          ]
        }
      ]
    },
    {
      "cell_type": "markdown",
      "source": [
        "1. Average = sum of the value / Total length\n",
        "2. [1,2,3,4,5]\n",
        "3. avg = 15/5 = 3"
      ],
      "metadata": {
        "id": "AkU82cV0S8pi"
      }
    },
    {
      "cell_type": "code",
      "source": [
        "# Average number\n",
        "def average_num(num):\n",
        "  return sum(num)/len(num)\n",
        "print(int(average_num([1,2,3,4,5]))) "
      ],
      "metadata": {
        "colab": {
          "base_uri": "https://localhost:8080/"
        },
        "id": "rmRUBpQJS3T5",
        "outputId": "a27579da-5f4e-44f1-e5c3-d7ecded39d6d"
      },
      "execution_count": 10,
      "outputs": [
        {
          "output_type": "stream",
          "name": "stdout",
          "text": [
            "3\n"
          ]
        }
      ]
    },
    {
      "cell_type": "markdown",
      "source": [
        "1. Factorial \n",
        "2. 5! = 5 * 4 * 3 * 2 * 1 \n",
        "3. 3! = 3 * 2 * 1 = 6\n",
        "4. n! = n * n - 1 ==> 5 * 4"
      ],
      "metadata": {
        "id": "iee_01ztT9pA"
      }
    },
    {
      "cell_type": "code",
      "source": [
        "# Factorial\n",
        "def factorial(n): #n=5 #n= 4 # n = 3 #n=2 #n = 1\n",
        "  if n == 0 or n == 1:\n",
        "    return 1\n",
        "  else :\n",
        "    return n * factorial(n-1) # 5 * 4 * 3 * 2 * 1\n",
        "print(factorial(5))    "
      ],
      "metadata": {
        "colab": {
          "base_uri": "https://localhost:8080/"
        },
        "id": "zeioGYjVT7xR",
        "outputId": "59be8e5f-a9bd-4b51-99ea-4c2143cbf034"
      },
      "execution_count": 12,
      "outputs": [
        {
          "output_type": "stream",
          "name": "stdout",
          "text": [
            "24\n"
          ]
        }
      ]
    },
    {
      "cell_type": "markdown",
      "source": [
        "hello = olleh"
      ],
      "metadata": {
        "id": "NFijF1GJXFH6"
      }
    },
    {
      "cell_type": "markdown",
      "source": [
        "h -> 0,-5    e -> 1 ,-4   l -> 2, -3    l -> 3 , -2    o -> 4 , -1"
      ],
      "metadata": {
        "id": "jhP2uQjlXkuJ"
      }
    },
    {
      "cell_type": "code",
      "source": [
        "# Reverse th string\n",
        "def reverse_string(text):\n",
        "  return text[::-1] #slicing\n",
        "print(reverse_string(\"hello\"))  "
      ],
      "metadata": {
        "colab": {
          "base_uri": "https://localhost:8080/"
        },
        "id": "lOYjc4lqW8tn",
        "outputId": "5234e11b-a311-443c-fcea-37438c11733d"
      },
      "execution_count": 21,
      "outputs": [
        {
          "output_type": "stream",
          "name": "stdout",
          "text": [
            "olleh\n"
          ]
        }
      ]
    },
    {
      "cell_type": "markdown",
      "source": [
        "palindrome => ex : radar = radar\n",
        "madam = madam "
      ],
      "metadata": {
        "id": "19zsMVcLZReL"
      }
    },
    {
      "cell_type": "code",
      "source": [
        "def palindrome(text):\n",
        "  text = text.lower().replace(\" \",\"\")\n",
        "  return text == text[::-1]\n",
        "print(palindrome(\"Madam\")) #madam"
      ],
      "metadata": {
        "colab": {
          "base_uri": "https://localhost:8080/"
        },
        "id": "CdAh2Zi5Ziz3",
        "outputId": "576803f3-e94f-457a-ec97-6c05a4d99d8d"
      },
      "execution_count": 24,
      "outputs": [
        {
          "output_type": "stream",
          "name": "stdout",
          "text": [
            "True\n"
          ]
        }
      ]
    }
  ]
}