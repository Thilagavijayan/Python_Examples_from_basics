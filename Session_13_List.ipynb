{
  "nbformat": 4,
  "nbformat_minor": 0,
  "metadata": {
    "colab": {
      "provenance": [],
      "authorship_tag": "ABX9TyP0BbISBjbV89RiUfSHbe1v",
      "include_colab_link": true
    },
    "kernelspec": {
      "name": "python3",
      "display_name": "Python 3"
    },
    "language_info": {
      "name": "python"
    }
  },
  "cells": [
    {
      "cell_type": "markdown",
      "metadata": {
        "id": "view-in-github",
        "colab_type": "text"
      },
      "source": [
        "<a href=\"https://colab.research.google.com/github/Thilagavijayan/Python_Through_Examples/blob/main/Session_13_List.ipynb\" target=\"_parent\"><img src=\"https://colab.research.google.com/assets/colab-badge.svg\" alt=\"Open In Colab\"/></a>"
      ]
    },
    {
      "cell_type": "code",
      "execution_count": null,
      "metadata": {
        "colab": {
          "base_uri": "https://localhost:8080/"
        },
        "id": "0Ifmi-XEpqVC",
        "outputId": "8641d22d-612c-4ead-8710-f6f723f5c8a7"
      },
      "outputs": [
        {
          "output_type": "stream",
          "name": "stdout",
          "text": [
            "['apple', 1, 3, True]\n"
          ]
        }
      ],
      "source": [
        "a = ['apple',1,3,True] # Creating the list\n",
        "print(a)"
      ]
    },
    {
      "cell_type": "code",
      "source": [
        "b = [1,2,3,4,5]\n",
        "print(b)"
      ],
      "metadata": {
        "colab": {
          "base_uri": "https://localhost:8080/"
        },
        "id": "LkZTTPnmuTa4",
        "outputId": "8adf733d-23f4-4d14-f902-88be59b814a2"
      },
      "execution_count": null,
      "outputs": [
        {
          "output_type": "stream",
          "name": "stdout",
          "text": [
            "[1, 2, 3, 4, 5]\n"
          ]
        }
      ]
    },
    {
      "cell_type": "code",
      "source": [
        "a = ['apple',1,3,True]\n",
        "print(type(a))"
      ],
      "metadata": {
        "colab": {
          "base_uri": "https://localhost:8080/"
        },
        "id": "y2I3wLN8ue6b",
        "outputId": "172cc17f-d173-42a5-a289-b2bcd6b458cc"
      },
      "execution_count": null,
      "outputs": [
        {
          "output_type": "stream",
          "name": "stdout",
          "text": [
            "<class 'list'>\n"
          ]
        }
      ]
    },
    {
      "cell_type": "markdown",
      "source": [
        "##Accessing the list"
      ],
      "metadata": {
        "id": "9g7YhkPFudvo"
      }
    },
    {
      "cell_type": "code",
      "source": [
        "print(a[1])"
      ],
      "metadata": {
        "colab": {
          "base_uri": "https://localhost:8080/"
        },
        "id": "oduJi1IEuyMv",
        "outputId": "2f276f0a-9cb9-414e-b97c-405827d2fd61"
      },
      "execution_count": null,
      "outputs": [
        {
          "output_type": "stream",
          "name": "stdout",
          "text": [
            "1\n"
          ]
        }
      ]
    },
    {
      "cell_type": "markdown",
      "source": [
        "## OPERATION OF THE LIST"
      ],
      "metadata": {
        "id": "DRDSkhl-vJZc"
      }
    },
    {
      "cell_type": "markdown",
      "source": [
        "###LENGTH OF THE LIST"
      ],
      "metadata": {
        "id": "CICkgtJFvWNB"
      }
    },
    {
      "cell_type": "code",
      "source": [
        "print(len(a))"
      ],
      "metadata": {
        "colab": {
          "base_uri": "https://localhost:8080/"
        },
        "id": "2xJ44HjcvIlf",
        "outputId": "f0226a96-72d9-46bc-bbf1-7a639510dfd8"
      },
      "execution_count": null,
      "outputs": [
        {
          "output_type": "stream",
          "name": "stdout",
          "text": [
            "4\n"
          ]
        }
      ]
    },
    {
      "cell_type": "markdown",
      "source": [
        "### adding the elements in list"
      ],
      "metadata": {
        "id": "dSP8-s57vn9p"
      }
    },
    {
      "cell_type": "code",
      "source": [
        "a = ['apple',1,3,True]#adding the single element in last\n",
        "a.append(\"banana\")\n",
        "print(a)"
      ],
      "metadata": {
        "colab": {
          "base_uri": "https://localhost:8080/"
        },
        "id": "c8PANnU5vrkU",
        "outputId": "97ac0b8e-b310-4307-9346-26effd3b0ff3"
      },
      "execution_count": null,
      "outputs": [
        {
          "output_type": "stream",
          "name": "stdout",
          "text": [
            "['apple', 1, 3, True, 'banana']\n"
          ]
        }
      ]
    },
    {
      "cell_type": "code",
      "source": [
        "a = ['apple',1,3,True] # inserting the element in particular index\n",
        "a.insert(1,\"orange\")\n",
        "print(a)"
      ],
      "metadata": {
        "colab": {
          "base_uri": "https://localhost:8080/"
        },
        "id": "-S5qUI2iv1CE",
        "outputId": "0e9cc592-18fc-4073-9961-f785ce8c1c89"
      },
      "execution_count": null,
      "outputs": [
        {
          "output_type": "stream",
          "name": "stdout",
          "text": [
            "['apple', 'orange', 1, 3, True]\n"
          ]
        }
      ]
    },
    {
      "cell_type": "code",
      "source": [
        "a = ['apple',1,3,True] \n",
        "b = [2,3,4,5]#combines both lists\n",
        "a.extend(b)\n",
        "print(a)"
      ],
      "metadata": {
        "colab": {
          "base_uri": "https://localhost:8080/"
        },
        "id": "fHiK_wTwwCRv",
        "outputId": "af771d2e-702d-4e2f-c9ed-f0eb697702a5"
      },
      "execution_count": null,
      "outputs": [
        {
          "output_type": "stream",
          "name": "stdout",
          "text": [
            "['apple', 1, 3, True, 2, 3, 4, 5]\n"
          ]
        }
      ]
    },
    {
      "cell_type": "markdown",
      "source": [
        "### change the elements in the list --> Mutable"
      ],
      "metadata": {
        "id": "Wy6ESSh8wi4j"
      }
    },
    {
      "cell_type": "code",
      "source": [
        "a = [1,2,3,4]\n",
        "a[2] = 5\n",
        "print(a)"
      ],
      "metadata": {
        "colab": {
          "base_uri": "https://localhost:8080/"
        },
        "id": "uPs4qMdbwihL",
        "outputId": "cb35eb8f-bcb7-40ca-e7da-f7de97280d72"
      },
      "execution_count": null,
      "outputs": [
        {
          "output_type": "stream",
          "name": "stdout",
          "text": [
            "[1, 2, 5, 4]\n"
          ]
        }
      ]
    },
    {
      "cell_type": "markdown",
      "source": [
        "## Removing the element in the list"
      ],
      "metadata": {
        "id": "Mo8u8xjww_AL"
      }
    },
    {
      "cell_type": "code",
      "source": [
        "a = [1,2,3,4] # remove the particular value in the list\n",
        "a.remove(2)\n",
        "print(a)"
      ],
      "metadata": {
        "colab": {
          "base_uri": "https://localhost:8080/"
        },
        "id": "Y90yB99LxDK0",
        "outputId": "f707c65b-6510-4124-866c-9731935d9665"
      },
      "execution_count": null,
      "outputs": [
        {
          "output_type": "stream",
          "name": "stdout",
          "text": [
            "[1, 3, 4]\n"
          ]
        }
      ]
    },
    {
      "cell_type": "code",
      "source": [
        "a = [1,2,3,4] # remove the particular value in the list using index\n",
        "a.pop(1)\n",
        "print(a)"
      ],
      "metadata": {
        "colab": {
          "base_uri": "https://localhost:8080/"
        },
        "id": "YMNFDFRyxSLW",
        "outputId": "f4f3407a-f756-40ed-9309-608538cbf779"
      },
      "execution_count": null,
      "outputs": [
        {
          "output_type": "stream",
          "name": "stdout",
          "text": [
            "[1, 3, 4]\n"
          ]
        }
      ]
    },
    {
      "cell_type": "code",
      "source": [
        "a = [1,2,3,4] # delete the whole list or the particular value in the list using index\n",
        "del a[3]\n",
        "print(a)"
      ],
      "metadata": {
        "colab": {
          "base_uri": "https://localhost:8080/"
        },
        "id": "43LnuyZTxcY8",
        "outputId": "35953b8d-7336-4329-f0e4-3f75eb8438ef"
      },
      "execution_count": null,
      "outputs": [
        {
          "output_type": "stream",
          "name": "stdout",
          "text": [
            "[1, 2, 3]\n"
          ]
        }
      ]
    },
    {
      "cell_type": "markdown",
      "source": [
        "### Concatenation of the list"
      ],
      "metadata": {
        "id": "0l9yNje8xvgL"
      }
    },
    {
      "cell_type": "code",
      "source": [
        "a = [3,4,5,6] # concatenation\n",
        "b1 = ['string',1,2,9]\n",
        "c = a + b1\n",
        "print(c)"
      ],
      "metadata": {
        "colab": {
          "base_uri": "https://localhost:8080/"
        },
        "id": "OB7OyH3ExzGI",
        "outputId": "efc62768-df29-4af0-f376-d4f88f1a215b"
      },
      "execution_count": null,
      "outputs": [
        {
          "output_type": "stream",
          "name": "stdout",
          "text": [
            "[3, 4, 5, 6, 'string', 1, 2, 9]\n"
          ]
        }
      ]
    },
    {
      "cell_type": "markdown",
      "source": [
        "##Slicing the list"
      ],
      "metadata": {
        "id": "Nn0HiDCYySji"
      }
    },
    {
      "cell_type": "code",
      "source": [
        "a = [1,3,56,78] #[start:stop:step]\n",
        "print(a[::])"
      ],
      "metadata": {
        "colab": {
          "base_uri": "https://localhost:8080/"
        },
        "id": "V45ZV27VyW0j",
        "outputId": "382ace55-6883-424d-c6e2-bf63569be1db"
      },
      "execution_count": null,
      "outputs": [
        {
          "output_type": "stream",
          "name": "stdout",
          "text": [
            "[1, 3, 56, 78]\n"
          ]
        }
      ]
    },
    {
      "cell_type": "markdown",
      "source": [
        "### looping the list using for"
      ],
      "metadata": {
        "id": "GED4dxoVypnY"
      }
    },
    {
      "cell_type": "code",
      "source": [
        "a = [1,3,56,78]\n",
        "for x in a:\n",
        "  print(x)"
      ],
      "metadata": {
        "colab": {
          "base_uri": "https://localhost:8080/"
        },
        "id": "dYudlaaJySQg",
        "outputId": "2252b44a-81e4-4a52-cf21-b5c97a4429b4"
      },
      "execution_count": null,
      "outputs": [
        {
          "output_type": "stream",
          "name": "stdout",
          "text": [
            "1\n",
            "3\n",
            "56\n",
            "78\n"
          ]
        }
      ]
    },
    {
      "cell_type": "markdown",
      "source": [
        "looping the list using while"
      ],
      "metadata": {
        "id": "k9M5Ywj5zHdd"
      }
    },
    {
      "cell_type": "code",
      "source": [
        "a = [1,3,56,78]\n",
        "i = 0\n",
        "while i<len(a): #0<4 1<4 2<4 3<4 4<4 \n",
        "  print(a[i]) # a[0] a[1] a[2] a[3]\n",
        "  i = i+1 #0+1 = 1 1+1 = 2 2+1 = 3 3+1 = 4"
      ],
      "metadata": {
        "colab": {
          "base_uri": "https://localhost:8080/"
        },
        "id": "Vq4SD2gYzGcF",
        "outputId": "beed302f-5ec6-418b-df33-e60f4504baab"
      },
      "execution_count": null,
      "outputs": [
        {
          "output_type": "stream",
          "name": "stdout",
          "text": [
            "1\n",
            "3\n",
            "56\n",
            "78\n"
          ]
        }
      ]
    },
    {
      "cell_type": "markdown",
      "source": [
        "## Builtin functions in the lists"
      ],
      "metadata": {
        "id": "dxl05KUr0Lai"
      }
    },
    {
      "cell_type": "markdown",
      "source": [
        "### Sorting "
      ],
      "metadata": {
        "id": "eCyujDpI0Sxu"
      }
    },
    {
      "cell_type": "code",
      "source": [
        "a = [3,5,6,1,2] # 1 , 2 , 3, 5, 6\n",
        "a.sort()\n",
        "print(a)"
      ],
      "metadata": {
        "colab": {
          "base_uri": "https://localhost:8080/"
        },
        "id": "27K6F7e50Ry_",
        "outputId": "ce196a01-910d-4fa8-b4a4-90925b564cf1"
      },
      "execution_count": null,
      "outputs": [
        {
          "output_type": "stream",
          "name": "stdout",
          "text": [
            "[1, 2, 3, 5, 6]\n"
          ]
        }
      ]
    },
    {
      "cell_type": "code",
      "source": [
        "a = ['banana','apple','car','apple'] # abcd\n",
        "a.sort()\n",
        "print(a)"
      ],
      "metadata": {
        "colab": {
          "base_uri": "https://localhost:8080/"
        },
        "id": "6wJ8sRCf0vpK",
        "outputId": "c2651b64-0e4d-4cb7-ea86-07bf1c7af389"
      },
      "execution_count": null,
      "outputs": [
        {
          "output_type": "stream",
          "name": "stdout",
          "text": [
            "['apple', 'apple', 'banana', 'car']\n"
          ]
        }
      ]
    },
    {
      "cell_type": "markdown",
      "source": [
        "## Copy"
      ],
      "metadata": {
        "id": "79m7I6sV1Okp"
      }
    },
    {
      "cell_type": "code",
      "source": [
        "a = ['banana','apple','car','apple']\n",
        "b = a.copy()\n",
        "print(a)\n",
        "print(b)"
      ],
      "metadata": {
        "colab": {
          "base_uri": "https://localhost:8080/"
        },
        "id": "xNiATj1r1N51",
        "outputId": "55e6d15c-1049-4ddc-e01b-d87ec2f66ff1"
      },
      "execution_count": null,
      "outputs": [
        {
          "output_type": "stream",
          "name": "stdout",
          "text": [
            "['banana', 'apple', 'car', 'apple']\n",
            "['banana', 'apple', 'car', 'apple']\n"
          ]
        }
      ]
    },
    {
      "cell_type": "markdown",
      "source": [
        "Maximum and Minimum"
      ],
      "metadata": {
        "id": "POP_ZP2L1gC7"
      }
    },
    {
      "cell_type": "code",
      "source": [
        "a = [1,2,4,5,6]\n",
        "print(max(a))\n",
        "print(min(a))"
      ],
      "metadata": {
        "colab": {
          "base_uri": "https://localhost:8080/"
        },
        "id": "UhTmZ2uv1jY4",
        "outputId": "c2aebea9-cbb4-4a46-ea71-5e594b0190e1"
      },
      "execution_count": null,
      "outputs": [
        {
          "output_type": "stream",
          "name": "stdout",
          "text": [
            "6\n",
            "1\n"
          ]
        }
      ]
    },
    {
      "cell_type": "markdown",
      "source": [
        "### Sum"
      ],
      "metadata": {
        "id": "OcbKo1yN15io"
      }
    },
    {
      "cell_type": "code",
      "source": [
        "a = [1,2,4,5,6]\n",
        "print(sum(a))\n"
      ],
      "metadata": {
        "colab": {
          "base_uri": "https://localhost:8080/"
        },
        "id": "4XAxWvMf18FR",
        "outputId": "07dba3a8-fed8-4b73-f356-3762b07342d8"
      },
      "execution_count": null,
      "outputs": [
        {
          "output_type": "stream",
          "name": "stdout",
          "text": [
            "18\n"
          ]
        }
      ]
    },
    {
      "cell_type": "code",
      "source": [
        "a = [1,2,4,5,6]\n",
        "b = sum(a)/len(a)\n",
        "print(int(b))"
      ],
      "metadata": {
        "colab": {
          "base_uri": "https://localhost:8080/"
        },
        "id": "BkIVfb-32JDK",
        "outputId": "cd39acb1-4adf-4c37-d832-af1afb25f6f8"
      },
      "execution_count": null,
      "outputs": [
        {
          "output_type": "stream",
          "name": "stdout",
          "text": [
            "3\n"
          ]
        }
      ]
    }
  ]
}