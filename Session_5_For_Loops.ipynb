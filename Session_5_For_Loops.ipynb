{
  "nbformat": 4,
  "nbformat_minor": 0,
  "metadata": {
    "colab": {
      "provenance": [],
      "authorship_tag": "ABX9TyMohcPshqA1mb4ftqT5rR7v",
      "include_colab_link": true
    },
    "kernelspec": {
      "name": "python3",
      "display_name": "Python 3"
    },
    "language_info": {
      "name": "python"
    }
  },
  "cells": [
    {
      "cell_type": "markdown",
      "metadata": {
        "id": "view-in-github",
        "colab_type": "text"
      },
      "source": [
        "<a href=\"https://colab.research.google.com/github/Thilagavijayan/Python_Examples_from_basics/blob/main/Session_5_For_Loops.ipynb\" target=\"_parent\"><img src=\"https://colab.research.google.com/assets/colab-badge.svg\" alt=\"Open In Colab\"/></a>"
      ]
    },
    {
      "cell_type": "markdown",
      "source": [
        "\n",
        "\n",
        "1. Print \"Hello world \" 5times using for loop\n",
        "2. Print 0-10 using for loop\n",
        "3. Print only even numbers in 0 - 10 using for loop\n",
        "4. Print each and every letter from \"Hello World\" orderly\n",
        "5. Print every Words from list\n",
        "6. Continue statement example\n",
        "7. break statement example\n",
        "8. pass statement example\n",
        "\n"
      ],
      "metadata": {
        "id": "pQneH5krH3VM"
      }
    },
    {
      "cell_type": "code",
      "execution_count": null,
      "metadata": {
        "colab": {
          "base_uri": "https://localhost:8080/"
        },
        "id": "qtmyCV2IH2Qa",
        "outputId": "00d0c820-e31e-4598-ddbf-1a1c31010e33"
      },
      "outputs": [
        {
          "output_type": "stream",
          "name": "stdout",
          "text": [
            "Hello World\n",
            "Hello World\n",
            "Hello World\n",
            "Hello World\n",
            "Hello World\n"
          ]
        }
      ],
      "source": [
        "#Print \"Hello world \" 5times using for loop\n",
        "print(\"Hello World\")\n",
        "print(\"Hello World\")\n",
        "print(\"Hello World\")\n",
        "print(\"Hello World\")\n",
        "print(\"Hello World\")"
      ]
    },
    {
      "cell_type": "code",
      "source": [
        "# Print \"Hello world \" 5times using for loop\n",
        "for a in range(5):\n",
        "  print(\"Hello World\") #range(count)"
      ],
      "metadata": {
        "colab": {
          "base_uri": "https://localhost:8080/"
        },
        "id": "hFErZyEIM5WJ",
        "outputId": "867bd7f2-7a33-4fbc-abcf-de73ecc110b3"
      },
      "execution_count": null,
      "outputs": [
        {
          "output_type": "stream",
          "name": "stdout",
          "text": [
            "Hello World\n",
            "Hello World\n",
            "Hello World\n",
            "Hello World\n",
            "Hello World\n"
          ]
        }
      ]
    },
    {
      "cell_type": "code",
      "source": [
        "# Print 0-10 using for loop\n",
        "for i in range(0,11):\n",
        "  print(i) #range(start,stop)"
      ],
      "metadata": {
        "colab": {
          "base_uri": "https://localhost:8080/"
        },
        "id": "2ls1kluWNokx",
        "outputId": "711ce263-b4a0-4b5a-dd54-260754ec7773"
      },
      "execution_count": null,
      "outputs": [
        {
          "output_type": "stream",
          "name": "stdout",
          "text": [
            "0\n",
            "1\n",
            "2\n",
            "3\n",
            "4\n",
            "5\n",
            "6\n",
            "7\n",
            "8\n",
            "9\n",
            "10\n"
          ]
        }
      ]
    },
    {
      "cell_type": "code",
      "source": [
        "# Print only odd numbers in 1 - 10 using for loop\n",
        "for i in range(1,10,2):\n",
        "  print(i)  # even numbers using range(start,stop,step)"
      ],
      "metadata": {
        "colab": {
          "base_uri": "https://localhost:8080/"
        },
        "id": "eIcmmJQEOEk0",
        "outputId": "3bdc64c5-bdc8-4fe4-a26b-becabc3379fe"
      },
      "execution_count": null,
      "outputs": [
        {
          "output_type": "stream",
          "name": "stdout",
          "text": [
            "1\n",
            "3\n",
            "5\n",
            "7\n",
            "9\n"
          ]
        }
      ]
    },
    {
      "cell_type": "code",
      "source": [
        "#Print each and every letter from \"Hello World\" orderly\n",
        "word = \"hello world\"\n",
        "for i in word:\n",
        "  print(i)"
      ],
      "metadata": {
        "colab": {
          "base_uri": "https://localhost:8080/"
        },
        "id": "7w-d5HjnOvve",
        "outputId": "588b92a2-4921-466f-d1a4-b184194197b7"
      },
      "execution_count": null,
      "outputs": [
        {
          "output_type": "stream",
          "name": "stdout",
          "text": [
            "h\n",
            "e\n",
            "l\n",
            "l\n",
            "o\n",
            " \n",
            "w\n",
            "o\n",
            "r\n",
            "l\n",
            "d\n"
          ]
        }
      ]
    },
    {
      "cell_type": "code",
      "source": [
        "# Print every Words from list\n",
        "fruits = [\"apple\", \"Banana\" , \"cherry\"]\n",
        "for i in fruits:\n",
        "  print(i)"
      ],
      "metadata": {
        "colab": {
          "base_uri": "https://localhost:8080/"
        },
        "id": "igLUrUbFPcyO",
        "outputId": "327fd00a-0c7c-43ed-a31d-c69690228174"
      },
      "execution_count": null,
      "outputs": [
        {
          "output_type": "stream",
          "name": "stdout",
          "text": [
            "apple\n",
            "Banana\n",
            "cherry\n"
          ]
        }
      ]
    },
    {
      "cell_type": "code",
      "source": [
        "# Continue statement example\n",
        "for letters in \"Hello World\":\n",
        "  if letters == \"e\":\n",
        "    continue #skips the step\n",
        "  print(\"Letters:\" , letters)\n",
        "print(\"End of Program\")"
      ],
      "metadata": {
        "colab": {
          "base_uri": "https://localhost:8080/"
        },
        "id": "gyfo-WAhP29D",
        "outputId": "0faafa54-5b4f-4862-a1e4-c6b2d7a7694e"
      },
      "execution_count": null,
      "outputs": [
        {
          "output_type": "stream",
          "name": "stdout",
          "text": [
            "Letters: H\n",
            "Letters: l\n",
            "Letters: l\n",
            "Letters: o\n",
            "Letters:  \n",
            "Letters: W\n",
            "Letters: o\n",
            "Letters: r\n",
            "Letters: l\n",
            "Letters: d\n",
            "End of Program\n"
          ]
        }
      ]
    },
    {
      "cell_type": "code",
      "source": [
        "#prints the number except even\n",
        "for num in [ 2,5,6,7,8,9]:\n",
        "  if num % 2 == 0:\n",
        "    continue #skips the step\n",
        "  print(num)"
      ],
      "metadata": {
        "colab": {
          "base_uri": "https://localhost:8080/"
        },
        "id": "0cj9v07rQqUv",
        "outputId": "a57809f4-e8f1-46af-ab11-bb001441579f"
      },
      "execution_count": null,
      "outputs": [
        {
          "output_type": "stream",
          "name": "stdout",
          "text": [
            "5\n",
            "7\n",
            "9\n"
          ]
        }
      ]
    },
    {
      "cell_type": "code",
      "source": [
        "# break statement example\n",
        "for word in \"HelloWorld\":\n",
        "  print(word)\n",
        "  if word == \"o\":\n",
        "    break"
      ],
      "metadata": {
        "colab": {
          "base_uri": "https://localhost:8080/"
        },
        "id": "H0mlPMN4ROqj",
        "outputId": "0f1edbfa-ea72-426a-c6b6-aff959caaef4"
      },
      "execution_count": null,
      "outputs": [
        {
          "output_type": "stream",
          "name": "stdout",
          "text": [
            "H\n",
            "e\n",
            "l\n",
            "l\n",
            "o\n"
          ]
        }
      ]
    },
    {
      "cell_type": "code",
      "source": [
        "# break statement example\n",
        "for letter in \"python\":\n",
        "  \n",
        "  if letter == \"t\":\n",
        "    break\n",
        "  print(letter)"
      ],
      "metadata": {
        "colab": {
          "base_uri": "https://localhost:8080/"
        },
        "id": "V-1Z0tadRmzU",
        "outputId": "b3dad9a7-b69d-4c0d-fe5a-1fb30b0d49a5"
      },
      "execution_count": null,
      "outputs": [
        {
          "output_type": "stream",
          "name": "stdout",
          "text": [
            "p\n",
            "y\n"
          ]
        }
      ]
    },
    {
      "cell_type": "code",
      "source": [
        "# Pass statement example\n",
        "for num in range(10,26):\n",
        "  if(num % 2 != 0): #11\n",
        "    pass # eliminates\n",
        "  else:\n",
        "    print(\"Number:\",num)"
      ],
      "metadata": {
        "colab": {
          "base_uri": "https://localhost:8080/"
        },
        "id": "hOisNoNZSbPI",
        "outputId": "ee209d0b-4644-4149-d5c5-c88732a905c2"
      },
      "execution_count": null,
      "outputs": [
        {
          "output_type": "stream",
          "name": "stdout",
          "text": [
            "Number: 10\n",
            "Number: 12\n",
            "Number: 14\n",
            "Number: 16\n",
            "Number: 18\n",
            "Number: 20\n",
            "Number: 22\n",
            "Number: 24\n"
          ]
        }
      ]
    }
  ]
}