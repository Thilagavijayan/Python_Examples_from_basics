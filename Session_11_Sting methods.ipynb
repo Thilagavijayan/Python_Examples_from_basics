{
  "nbformat": 4,
  "nbformat_minor": 0,
  "metadata": {
    "colab": {
      "provenance": [],
      "authorship_tag": "ABX9TyO5UMQkSBW7nvGC/uSYZ+LU",
      "include_colab_link": true
    },
    "kernelspec": {
      "name": "python3",
      "display_name": "Python 3"
    },
    "language_info": {
      "name": "python"
    }
  },
  "cells": [
    {
      "cell_type": "markdown",
      "metadata": {
        "id": "view-in-github",
        "colab_type": "text"
      },
      "source": [
        "<a href=\"https://colab.research.google.com/github/Thilagavijayan/Python_Through_Examples/blob/main/Session_11_Sting%20methods.ipynb\" target=\"_parent\"><img src=\"https://colab.research.google.com/assets/colab-badge.svg\" alt=\"Open In Colab\"/></a>"
      ]
    },
    {
      "cell_type": "code",
      "source": [
        "# Reverse string using slice()\n",
        "text = \"python\"\n",
        "slice_word =  text[0:5:2][::-1]#a[::-1]\n",
        "print(slice_word)"
      ],
      "metadata": {
        "id": "oKeG2T-17RtY",
        "colab": {
          "base_uri": "https://localhost:8080/"
        },
        "outputId": "29318ff4-b57e-4c30-b76c-8208714684e9"
      },
      "execution_count": 11,
      "outputs": [
        {
          "output_type": "stream",
          "name": "stdout",
          "text": [
            "otp\n"
          ]
        }
      ]
    },
    {
      "cell_type": "code",
      "source": [
        "a = \"Hello World!\"\n",
        "print(a.capitalize())#1\n",
        "print(a.casefold())#2"
      ],
      "metadata": {
        "colab": {
          "base_uri": "https://localhost:8080/"
        },
        "id": "QBzzYLKcFWEU",
        "outputId": "aece8a92-7a7b-4a54-b393-99b783311c0b"
      },
      "execution_count": 14,
      "outputs": [
        {
          "output_type": "stream",
          "name": "stdout",
          "text": [
            "Hello world!\n",
            "hello world!\n"
          ]
        }
      ]
    },
    {
      "cell_type": "code",
      "source": [
        "a = \"Hello World\"\n",
        "print(a.center(20,\"*\"))#3\n",
        "print(a.count(\"l\"))#4"
      ],
      "metadata": {
        "colab": {
          "base_uri": "https://localhost:8080/"
        },
        "id": "L9Usm3spF72A",
        "outputId": "07558432-25e7-4c99-9169-b5a6e38cc775"
      },
      "execution_count": 17,
      "outputs": [
        {
          "output_type": "stream",
          "name": "stdout",
          "text": [
            "****Hello World*****\n",
            "3\n"
          ]
        }
      ]
    },
    {
      "cell_type": "code",
      "source": [
        "a = \"Hello World\"\n",
        "print(a.endswith(\"y\"))#5"
      ],
      "metadata": {
        "colab": {
          "base_uri": "https://localhost:8080/"
        },
        "id": "FDMrOjgKGdZb",
        "outputId": "3b3b7642-f39f-4ebc-ebb6-938525652a82"
      },
      "execution_count": 19,
      "outputs": [
        {
          "output_type": "stream",
          "name": "stdout",
          "text": [
            "False\n"
          ]
        }
      ]
    },
    {
      "cell_type": "code",
      "source": [
        "print(\"Hello\\tWorld\".expandtabs(4))#6"
      ],
      "metadata": {
        "colab": {
          "base_uri": "https://localhost:8080/"
        },
        "id": "A4g1iqEKGryE",
        "outputId": "0827502f-bed9-42e9-96db-1140260c3c06"
      },
      "execution_count": 20,
      "outputs": [
        {
          "output_type": "stream",
          "name": "stdout",
          "text": [
            "Hello   World\n"
          ]
        }
      ]
    },
    {
      "cell_type": "code",
      "source": [
        "print(a.find(\"e\"))#7"
      ],
      "metadata": {
        "colab": {
          "base_uri": "https://localhost:8080/"
        },
        "id": "MTinv1sIG8mb",
        "outputId": "1ca12bd6-e26b-4ae4-f81a-b15c780758e5"
      },
      "execution_count": 21,
      "outputs": [
        {
          "output_type": "stream",
          "name": "stdout",
          "text": [
            "1\n"
          ]
        }
      ]
    },
    {
      "cell_type": "code",
      "source": [
        "print(\"My name is {0} and I am {1} years old\".format(\"Thilaga\",\"30\"))#8"
      ],
      "metadata": {
        "colab": {
          "base_uri": "https://localhost:8080/"
        },
        "id": "wwxZNxpCHKd1",
        "outputId": "51a73787-1e96-471e-f046-1e25b8a19bf8"
      },
      "execution_count": 22,
      "outputs": [
        {
          "output_type": "stream",
          "name": "stdout",
          "text": [
            "My name isThilaga and I am 30 years old\n"
          ]
        }
      ]
    },
    {
      "cell_type": "code",
      "source": [
        "data = {\"name\": \"Thilaga\",\"age\": \"30\"}\n",
        "print(\"My name is {name} and I am {age} years old\".format_map(data))#9"
      ],
      "metadata": {
        "colab": {
          "base_uri": "https://localhost:8080/"
        },
        "id": "Ap8qXD_iHhfQ",
        "outputId": "3ea9ab54-1068-4798-df7b-4673ce1962cb"
      },
      "execution_count": 23,
      "outputs": [
        {
          "output_type": "stream",
          "name": "stdout",
          "text": [
            "My name is Thilaga and I am 30 years old\n"
          ]
        }
      ]
    },
    {
      "cell_type": "code",
      "source": [
        "print(a.index(\"o\"))#10"
      ],
      "metadata": {
        "colab": {
          "base_uri": "https://localhost:8080/"
        },
        "id": "OY2PSXqeH-X6",
        "outputId": "0d1dc942-6668-40a6-8e60-929756f583aa"
      },
      "execution_count": 27,
      "outputs": [
        {
          "output_type": "stream",
          "name": "stdout",
          "text": [
            "4\n"
          ]
        }
      ]
    },
    {
      "cell_type": "code",
      "source": [
        "a = \"utre7\"\n",
        "print(a.isalnum())#11"
      ],
      "metadata": {
        "colab": {
          "base_uri": "https://localhost:8080/"
        },
        "id": "onLDwp9eIULH",
        "outputId": "03e69a4d-dff8-4913-be5a-798e39acbb4c"
      },
      "execution_count": 29,
      "outputs": [
        {
          "output_type": "stream",
          "name": "stdout",
          "text": [
            "True\n"
          ]
        }
      ]
    },
    {
      "cell_type": "code",
      "source": [
        "a = \"utreo\"\n",
        "print(a.isalpha())#12"
      ],
      "metadata": {
        "colab": {
          "base_uri": "https://localhost:8080/"
        },
        "id": "NO1XSkgYIkZV",
        "outputId": "b7b2a4d8-98f7-43d6-b000-b5c1a322c4d8"
      },
      "execution_count": 31,
      "outputs": [
        {
          "output_type": "stream",
          "name": "stdout",
          "text": [
            "True\n"
          ]
        }
      ]
    },
    {
      "cell_type": "code",
      "source": [
        "a = \"549\"\n",
        "print(a.isdecimal())#13\n",
        "print(a.isdigit())#14"
      ],
      "metadata": {
        "colab": {
          "base_uri": "https://localhost:8080/"
        },
        "id": "6cN_u0DlIu6S",
        "outputId": "acad07ea-624f-46ab-bbe7-577a061fadbd"
      },
      "execution_count": 36,
      "outputs": [
        {
          "output_type": "stream",
          "name": "stdout",
          "text": [
            "True\n",
            "True\n"
          ]
        }
      ]
    },
    {
      "cell_type": "code",
      "source": [
        "a = \"UppER\"\n",
        "print(a.lower())#15\n",
        "print(a.title())#the first letter is upper #16\n",
        "print(a.upper())#17"
      ],
      "metadata": {
        "colab": {
          "base_uri": "https://localhost:8080/"
        },
        "id": "5yEWv6gyJRMW",
        "outputId": "4d8acb53-c4d1-4502-d04b-3a2aa137de8a"
      },
      "execution_count": 39,
      "outputs": [
        {
          "output_type": "stream",
          "name": "stdout",
          "text": [
            "upper\n",
            "Upper\n",
            "UPPER\n"
          ]
        }
      ]
    },
    {
      "cell_type": "code",
      "source": [
        "print(\"*\".join([\"Hello\",\"World\"]))#18"
      ],
      "metadata": {
        "colab": {
          "base_uri": "https://localhost:8080/"
        },
        "id": "mwPE4sMsJu8F",
        "outputId": "98ee7f87-586b-4ee9-c3e4-ce115ec6c07c"
      },
      "execution_count": 41,
      "outputs": [
        {
          "output_type": "stream",
          "name": "stdout",
          "text": [
            "Hello*World\n"
          ]
        }
      ]
    },
    {
      "cell_type": "code",
      "source": [
        "a = \"Helloworld\"\n",
        "print(a.replace(\"Hello\",\"Hey\"))#19"
      ],
      "metadata": {
        "colab": {
          "base_uri": "https://localhost:8080/"
        },
        "id": "wYtM3c51KBDe",
        "outputId": "99b9c580-2d17-426b-e910-b6304732e036"
      },
      "execution_count": 42,
      "outputs": [
        {
          "output_type": "stream",
          "name": "stdout",
          "text": [
            "Heyworld\n"
          ]
        }
      ]
    },
    {
      "cell_type": "code",
      "source": [
        "a = \"Helloworld\"\n",
        "print(a.startswith(\"r\"))#20"
      ],
      "metadata": {
        "colab": {
          "base_uri": "https://localhost:8080/"
        },
        "id": "vbTqWprjKQ8d",
        "outputId": "5111cf8e-8a2d-4312-a686-cac9db859c3e"
      },
      "execution_count": 43,
      "outputs": [
        {
          "output_type": "stream",
          "name": "stdout",
          "text": [
            "False\n"
          ]
        }
      ]
    },
    {
      "cell_type": "code",
      "source": [
        "a = \"HelloWorld\"\n",
        "print(a.swapcase())#21"
      ],
      "metadata": {
        "colab": {
          "base_uri": "https://localhost:8080/"
        },
        "id": "n_bv3b3pKY-K",
        "outputId": "6d1d21d3-98f1-438c-b55c-0a3d07f68710"
      },
      "execution_count": 44,
      "outputs": [
        {
          "output_type": "stream",
          "name": "stdout",
          "text": [
            "hELLOwORLD\n"
          ]
        }
      ]
    }
  ]
}