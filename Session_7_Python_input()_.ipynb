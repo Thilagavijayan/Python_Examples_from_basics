{
  "nbformat": 4,
  "nbformat_minor": 0,
  "metadata": {
    "colab": {
      "provenance": [],
      "authorship_tag": "ABX9TyMDrMVqqw5Uwr/Ycdna+/7R",
      "include_colab_link": true
    },
    "kernelspec": {
      "name": "python3",
      "display_name": "Python 3"
    },
    "language_info": {
      "name": "python"
    }
  },
  "cells": [
    {
      "cell_type": "markdown",
      "metadata": {
        "id": "view-in-github",
        "colab_type": "text"
      },
      "source": [
        "<a href=\"https://colab.research.google.com/github/Thilagavijayan/Python_Examples_from_basics/blob/main/Session_7_Python_input()_.ipynb\" target=\"_parent\"><img src=\"https://colab.research.google.com/assets/colab-badge.svg\" alt=\"Open In Colab\"/></a>"
      ]
    },
    {
      "cell_type": "code",
      "execution_count": null,
      "metadata": {
        "colab": {
          "base_uri": "https://localhost:8080/"
        },
        "id": "o080Ymc49NpF",
        "outputId": "589a4b6c-8ac9-4f06-b26b-ea1afb778803"
      },
      "outputs": [
        {
          "output_type": "stream",
          "name": "stdout",
          "text": [
            "11\n"
          ]
        }
      ],
      "source": [
        "x = 5\n",
        "y = 6\n",
        "print(x + y)"
      ]
    },
    {
      "cell_type": "code",
      "source": [
        "x = int(input(\"Enter a\"))\n",
        "y = int(input(\"Enter b\"))\n",
        "print(x + y)"
      ],
      "metadata": {
        "colab": {
          "base_uri": "https://localhost:8080/"
        },
        "id": "SXBX3MMd9mxd",
        "outputId": "bc409b62-210e-4f12-9da7-06248aa8dd77"
      },
      "execution_count": null,
      "outputs": [
        {
          "output_type": "stream",
          "name": "stdout",
          "text": [
            "Enter a5\n",
            "Enter b6\n",
            "11\n"
          ]
        }
      ]
    },
    {
      "cell_type": "code",
      "source": [
        "import keyword\n",
        "print(keyword.kwlist)"
      ],
      "metadata": {
        "colab": {
          "base_uri": "https://localhost:8080/"
        },
        "id": "9VujFD-s-dfK",
        "outputId": "01dcdcd6-5284-4097-cd1e-b78bd99d33c6"
      },
      "execution_count": null,
      "outputs": [
        {
          "output_type": "stream",
          "name": "stdout",
          "text": [
            "['False', 'None', 'True', 'and', 'as', 'assert', 'async', 'await', 'break', 'class', 'continue', 'def', 'del', 'elif', 'else', 'except', 'finally', 'for', 'from', 'global', 'if', 'import', 'in', 'is', 'lambda', 'nonlocal', 'not', 'or', 'pass', 'raise', 'return', 'try', 'while', 'with', 'yield']\n"
          ]
        }
      ]
    },
    {
      "cell_type": "markdown",
      "source": [
        "when to use continue and pass"
      ],
      "metadata": {
        "id": "2PmPn1oQ-4Lu"
      }
    },
    {
      "cell_type": "code",
      "source": [
        "i = 1\n",
        "while i<=10: #2 #3 #4 #5\n",
        "  print(i)\n",
        "  i+=1 #2 #3 #4 #5 \n",
        "  if i==5: #5==5\n",
        "    continue#it breaks the loop\n",
        "  print(\"hello\")\n",
        "print(\"out from loop\")"
      ],
      "metadata": {
        "colab": {
          "base_uri": "https://localhost:8080/"
        },
        "id": "-cSsj_Ab-xio",
        "outputId": "ad92f47c-c55b-4c19-b6e9-aa6ea6e028c6"
      },
      "execution_count": null,
      "outputs": [
        {
          "output_type": "stream",
          "name": "stdout",
          "text": [
            "1\n",
            "hello\n",
            "2\n",
            "hello\n",
            "3\n",
            "hello\n",
            "4\n",
            "5\n",
            "hello\n",
            "6\n",
            "hello\n",
            "7\n",
            "hello\n",
            "8\n",
            "hello\n",
            "9\n",
            "hello\n",
            "10\n",
            "hello\n",
            "out from loop\n"
          ]
        }
      ]
    },
    {
      "cell_type": "code",
      "source": [
        "# square of numbers using input()\n",
        "a = int(input(\"Enter the integer\"))\n",
        "# #4\n",
        "Square = (a * a) #16\n",
        "print(\"Square of the value {0}:{1}\".format(a,Square))"
      ],
      "metadata": {
        "colab": {
          "base_uri": "https://localhost:8080/"
        },
        "id": "mW5GNmk5CLag",
        "outputId": "92a14e52-b606-412b-cc09-6d1d64e2073c"
      },
      "execution_count": null,
      "outputs": [
        {
          "output_type": "stream",
          "name": "stdout",
          "text": [
            "Enter the integer4\n",
            "Square of the value 4:16\n"
          ]
        }
      ]
    },
    {
      "cell_type": "code",
      "source": [
        "bin(7)"
      ],
      "metadata": {
        "colab": {
          "base_uri": "https://localhost:8080/",
          "height": 36
        },
        "id": "97m16zyZC1Qk",
        "outputId": "5e19e793-2176-47b3-c0f1-a047204d38f7"
      },
      "execution_count": null,
      "outputs": [
        {
          "output_type": "execute_result",
          "data": {
            "text/plain": [
              "'0b111'"
            ],
            "application/vnd.google.colaboratory.intrinsic+json": {
              "type": "string"
            }
          },
          "metadata": {},
          "execution_count": 13
        }
      ]
    },
    {
      "cell_type": "code",
      "source": [
        "ascii('s')"
      ],
      "metadata": {
        "colab": {
          "base_uri": "https://localhost:8080/",
          "height": 36
        },
        "id": "dywfY4T0DCxK",
        "outputId": "7734a250-547e-4bc0-d796-831558342da6"
      },
      "execution_count": null,
      "outputs": [
        {
          "output_type": "execute_result",
          "data": {
            "text/plain": [
              "\"'s'\""
            ],
            "application/vnd.google.colaboratory.intrinsic+json": {
              "type": "string"
            }
          },
          "metadata": {},
          "execution_count": 16
        }
      ]
    },
    {
      "cell_type": "code",
      "source": [
        "a = 7\n",
        "eval('a + 7')"
      ],
      "metadata": {
        "colab": {
          "base_uri": "https://localhost:8080/"
        },
        "id": "hjAFdvXOD9Yq",
        "outputId": "a8d2d48a-6c2d-4989-9d22-e00c48ff4ac9"
      },
      "execution_count": null,
      "outputs": [
        {
          "output_type": "execute_result",
          "data": {
            "text/plain": [
              "14"
            ]
          },
          "metadata": {},
          "execution_count": 17
        }
      ]
    },
    {
      "cell_type": "code",
      "source": [
        "a = 2\n",
        "b = 3\n",
        "print(\"a ={0} and b = {1}\".format(a,b))"
      ],
      "metadata": {
        "colab": {
          "base_uri": "https://localhost:8080/"
        },
        "id": "dwB1sfG1EMEq",
        "outputId": "8c8a2158-6067-4af7-c78b-462220ce696b"
      },
      "execution_count": null,
      "outputs": [
        {
          "output_type": "stream",
          "name": "stdout",
          "text": [
            "a =2 and b = 3\n"
          ]
        }
      ]
    },
    {
      "cell_type": "code",
      "source": [
        "String = 'GEEKSFORGEEKS'\n",
        " \n",
        "# Using indexing sequence\n",
        "print(String[::-1])"
      ],
      "metadata": {
        "colab": {
          "base_uri": "https://localhost:8080/"
        },
        "id": "Rsg2UuFQGhVu",
        "outputId": "4a7ea644-ac41-4285-80f2-1ffbb9e3fe5c"
      },
      "execution_count": null,
      "outputs": [
        {
          "output_type": "stream",
          "name": "stdout",
          "text": [
            "SKEEGROFSKEEG\n"
          ]
        }
      ]
    }
  ]
}