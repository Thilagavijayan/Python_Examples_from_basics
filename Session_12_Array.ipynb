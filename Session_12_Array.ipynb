{
  "nbformat": 4,
  "nbformat_minor": 0,
  "metadata": {
    "colab": {
      "provenance": [],
      "authorship_tag": "ABX9TyPJXCpOW6LNZVhp5EvusOw7",
      "include_colab_link": true
    },
    "kernelspec": {
      "name": "python3",
      "display_name": "Python 3"
    },
    "language_info": {
      "name": "python"
    }
  },
  "cells": [
    {
      "cell_type": "markdown",
      "metadata": {
        "id": "view-in-github",
        "colab_type": "text"
      },
      "source": [
        "<a href=\"https://colab.research.google.com/github/Thilagavijayan/Python_Through_Examples/blob/main/Session_12_Array.ipynb\" target=\"_parent\"><img src=\"https://colab.research.google.com/assets/colab-badge.svg\" alt=\"Open In Colab\"/></a>"
      ]
    },
    {
      "cell_type": "code",
      "execution_count": null,
      "metadata": {
        "colab": {
          "base_uri": "https://localhost:8080/"
        },
        "id": "T0LSQRfcMvUh",
        "outputId": "245e52c1-ba22-4cad-a78b-1a15e2ce6e52"
      },
      "outputs": [
        {
          "output_type": "stream",
          "name": "stdout",
          "text": [
            "array('i', [1, 2, 4, 3, 5])\n"
          ]
        },
        {
          "output_type": "execute_result",
          "data": {
            "text/plain": [
              "array('i', [1, 2, 4, 3, 5])"
            ]
          },
          "metadata": {},
          "execution_count": 3
        }
      ],
      "source": [
        "import array #importing ARRAY  module # without alias\n",
        "a = array.array('i',[1,2,4,3,5])\n",
        "print(a)\n",
        "a"
      ]
    },
    {
      "cell_type": "code",
      "source": [
        "import array as arr # with alias\n",
        "a = arr.array('i',[1,2,4,3,5])\n",
        "a"
      ],
      "metadata": {
        "colab": {
          "base_uri": "https://localhost:8080/"
        },
        "id": "k3jTr_uDWF5m",
        "outputId": "4535a3a9-915a-41db-d0ea-c84feab17966"
      },
      "execution_count": null,
      "outputs": [
        {
          "output_type": "execute_result",
          "data": {
            "text/plain": [
              "array('i', [1, 2, 4, 3, 5])"
            ]
          },
          "metadata": {},
          "execution_count": 4
        }
      ]
    },
    {
      "cell_type": "code",
      "source": [
        "from array import * # importing all the functionalities from array module\n",
        "a = array('i',[1,2,4,3,5])\n",
        "a"
      ],
      "metadata": {
        "colab": {
          "base_uri": "https://localhost:8080/"
        },
        "id": "MflxwQ9CWbJa",
        "outputId": "ba5dd484-c640-4550-8f6d-8f6ccb96b159"
      },
      "execution_count": null,
      "outputs": [
        {
          "output_type": "execute_result",
          "data": {
            "text/plain": [
              "array('i', [1, 2, 4, 3, 5])"
            ]
          },
          "metadata": {},
          "execution_count": 5
        }
      ]
    },
    {
      "cell_type": "markdown",
      "source": [
        "##Accessing Elements"
      ],
      "metadata": {
        "id": "Z9ZTlmAZW6VR"
      }
    },
    {
      "cell_type": "code",
      "source": [
        "a[3]"
      ],
      "metadata": {
        "colab": {
          "base_uri": "https://localhost:8080/"
        },
        "id": "x900WajTW4MD",
        "outputId": "2792b34f-a032-415e-8953-14a308edcbdd"
      },
      "execution_count": null,
      "outputs": [
        {
          "output_type": "execute_result",
          "data": {
            "text/plain": [
              "3"
            ]
          },
          "metadata": {},
          "execution_count": 6
        }
      ]
    },
    {
      "cell_type": "code",
      "source": [
        "a[1]"
      ],
      "metadata": {
        "colab": {
          "base_uri": "https://localhost:8080/"
        },
        "id": "i1t_8LHvXKWM",
        "outputId": "2d120579-6a0d-43ee-951f-3914dbf403a5"
      },
      "execution_count": null,
      "outputs": [
        {
          "output_type": "execute_result",
          "data": {
            "text/plain": [
              "2"
            ]
          },
          "metadata": {},
          "execution_count": 7
        }
      ]
    },
    {
      "cell_type": "markdown",
      "source": [
        "#Basic Operations of an array"
      ],
      "metadata": {
        "id": "46m9uky1XSyJ"
      }
    },
    {
      "cell_type": "markdown",
      "source": [
        "## Find the length of an Array"
      ],
      "metadata": {
        "id": "vCjN_ksAXY0d"
      }
    },
    {
      "cell_type": "code",
      "source": [
        "import array as arr # with alias\n",
        "a = arr.array('i',[1,2,4,3,5])\n",
        "len(a) # number of values"
      ],
      "metadata": {
        "colab": {
          "base_uri": "https://localhost:8080/"
        },
        "id": "nssWvPF-XSYM",
        "outputId": "e70b72ef-9866-4aa7-de47-cadf998d95fa"
      },
      "execution_count": null,
      "outputs": [
        {
          "output_type": "execute_result",
          "data": {
            "text/plain": [
              "5"
            ]
          },
          "metadata": {},
          "execution_count": 8
        }
      ]
    },
    {
      "cell_type": "markdown",
      "source": [
        "## Adding Elements to an Array"
      ],
      "metadata": {
        "id": "6XsdnuHHXxxe"
      }
    },
    {
      "cell_type": "code",
      "source": [
        "import array as arr\n",
        "a = arr.array('i',[1,3,4,2,5])\n",
        "a.append(6) #append() --> single value\n",
        "a"
      ],
      "metadata": {
        "colab": {
          "base_uri": "https://localhost:8080/"
        },
        "id": "OO5CPZt8XwRk",
        "outputId": "f4f17e85-8013-4474-8b67-ee3e193a3cbf"
      },
      "execution_count": null,
      "outputs": [
        {
          "output_type": "execute_result",
          "data": {
            "text/plain": [
              "array('i', [1, 3, 4, 2, 5, 6])"
            ]
          },
          "metadata": {},
          "execution_count": 13
        }
      ]
    },
    {
      "cell_type": "code",
      "source": [
        "import array as arr\n",
        "a = arr.array('i',[1,3,4,2,5])\n",
        "a.extend([3,7,8]) #extend() --> multiple values\n",
        "a"
      ],
      "metadata": {
        "colab": {
          "base_uri": "https://localhost:8080/"
        },
        "id": "zke8GDRTYVjL",
        "outputId": "2bc63503-0958-4773-eb3c-70e2929b809c"
      },
      "execution_count": null,
      "outputs": [
        {
          "output_type": "execute_result",
          "data": {
            "text/plain": [
              "array('i', [1, 3, 4, 2, 5, 3, 7, 8])"
            ]
          },
          "metadata": {},
          "execution_count": 11
        }
      ]
    },
    {
      "cell_type": "code",
      "source": [
        "import array as arr\n",
        "a = arr.array('i',[1,3,4,2,5])\n",
        "a.insert(2,9) #insert() --> can insert in particular index\n",
        "a"
      ],
      "metadata": {
        "colab": {
          "base_uri": "https://localhost:8080/"
        },
        "id": "9EJLEexEYrId",
        "outputId": "e4b5f7de-93c9-4c4e-ab56-f043944eac9e"
      },
      "execution_count": null,
      "outputs": [
        {
          "output_type": "execute_result",
          "data": {
            "text/plain": [
              "array('i', [1, 3, 9, 4, 2, 5])"
            ]
          },
          "metadata": {},
          "execution_count": 14
        }
      ]
    },
    {
      "cell_type": "markdown",
      "source": [
        "## Removing an elements in an array"
      ],
      "metadata": {
        "id": "Fq0RaHzjZD6Y"
      }
    },
    {
      "cell_type": "code",
      "source": [
        "import array as arr\n",
        "a = arr.array('i',[1,3,4,2,5])\n",
        "print(\"Pop last element\",a.pop()) \n",
        "print(\"pop 2nd element\",a.pop(1))\n",
        "print(a) #pop()--. use index value to remove"
      ],
      "metadata": {
        "colab": {
          "base_uri": "https://localhost:8080/"
        },
        "id": "yAH2INI7ZLCR",
        "outputId": "194bf20d-6779-41e2-875f-592627c8141c"
      },
      "execution_count": null,
      "outputs": [
        {
          "output_type": "stream",
          "name": "stdout",
          "text": [
            "Pop last element 5\n",
            "pop 2nd element 3\n",
            "array('i', [1, 4, 2])\n"
          ]
        }
      ]
    },
    {
      "cell_type": "code",
      "source": [
        "import array as arr\n",
        "a = arr.array('i',[1,3,4,2,5])\n",
        "a.remove(4)\n",
        "print(a) # remove --> direct data will be removed"
      ],
      "metadata": {
        "colab": {
          "base_uri": "https://localhost:8080/"
        },
        "id": "sMXkBfknZxx6",
        "outputId": "ec1ed8fd-6856-4a8b-930b-cad8c033f261"
      },
      "execution_count": null,
      "outputs": [
        {
          "output_type": "stream",
          "name": "stdout",
          "text": [
            "array('i', [1, 3, 2, 5])\n"
          ]
        }
      ]
    },
    {
      "cell_type": "markdown",
      "source": [
        "## Array Concatenation"
      ],
      "metadata": {
        "id": "piayf1uraK3y"
      }
    },
    {
      "cell_type": "code",
      "source": [
        "import array as arr #Merging multiple arrays\n",
        "a = arr.array('i',[1,3,4,2,5])\n",
        "b = arr.array('i',[6,7,8,9])\n",
        "c = arr.array('i')\n",
        "c = a+b\n",
        "print(\"Array c = \",c)"
      ],
      "metadata": {
        "colab": {
          "base_uri": "https://localhost:8080/"
        },
        "id": "1B6Y0DVaaPc3",
        "outputId": "d0799222-8861-4a2b-b5db-4767a6443a7c"
      },
      "execution_count": null,
      "outputs": [
        {
          "output_type": "stream",
          "name": "stdout",
          "text": [
            "Array c =  array('i', [1, 3, 4, 2, 5, 6, 7, 8, 9])\n"
          ]
        }
      ]
    },
    {
      "cell_type": "markdown",
      "source": [
        "## Slicing"
      ],
      "metadata": {
        "id": "ec1WJes1ayyK"
      }
    },
    {
      "cell_type": "code",
      "source": [
        "import array as arr\n",
        "a = arr.array('i',[1,3,4,2,5])\n",
        "print(a[0:3])"
      ],
      "metadata": {
        "colab": {
          "base_uri": "https://localhost:8080/"
        },
        "id": "JrCHFJeWa0wF",
        "outputId": "250be498-1c6e-4494-d914-371ff2254d6d"
      },
      "execution_count": null,
      "outputs": [
        {
          "output_type": "stream",
          "name": "stdout",
          "text": [
            "array('i', [1, 3, 4])\n"
          ]
        }
      ]
    },
    {
      "cell_type": "markdown",
      "source": [
        "## Looping through an array using for loop"
      ],
      "metadata": {
        "id": "9oW7qdFsbHN3"
      }
    },
    {
      "cell_type": "code",
      "source": [
        "import array as arr\n",
        "a = arr.array('i',[1,3,4,2,5])\n",
        "print(\"All the Values\")\n",
        "for x in a:\n",
        "  print(x)"
      ],
      "metadata": {
        "colab": {
          "base_uri": "https://localhost:8080/"
        },
        "id": "Xoy90CR0bG0b",
        "outputId": "cc0fdafb-db5b-480c-c0e9-46713ee75d9b"
      },
      "execution_count": null,
      "outputs": [
        {
          "output_type": "stream",
          "name": "stdout",
          "text": [
            "All the Values\n",
            "1\n",
            "3\n",
            "4\n",
            "2\n",
            "5\n"
          ]
        }
      ]
    },
    {
      "cell_type": "markdown",
      "source": [
        "## Looping through an array using while loop"
      ],
      "metadata": {
        "id": "v6rvvVv7bmrb"
      }
    },
    {
      "cell_type": "code",
      "source": [
        "import array as arr\n",
        "a = arr.array('i',[1,3,4,2,5])\n",
        "b = 0\n",
        "while b<len(a): #0<5 -->less # 1<5 -->less # 2<5 # 3<5 #4<5 #5<5\n",
        "  print(a[b]) # a[0]= 1 #a[1] = 3 # a[2] =4 #a[3] = 2  # a[4] = 5\n",
        "  b = b+1 #b = 0+1 =1 # 1+1 = 2 2+1 = 3 3+1 =4 4+1 = 5"
      ],
      "metadata": {
        "colab": {
          "base_uri": "https://localhost:8080/"
        },
        "id": "guxvQG5ZbtGb",
        "outputId": "f0bfbd16-0e8c-414f-e050-2398c48bd8eb"
      },
      "execution_count": null,
      "outputs": [
        {
          "output_type": "stream",
          "name": "stdout",
          "text": [
            "1\n",
            "3\n",
            "4\n",
            "2\n",
            "5\n"
          ]
        }
      ]
    }
  ]
}