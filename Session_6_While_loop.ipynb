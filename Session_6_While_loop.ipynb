{
  "nbformat": 4,
  "nbformat_minor": 0,
  "metadata": {
    "colab": {
      "provenance": [],
      "authorship_tag": "ABX9TyMhJMJw68S/vwHB6jwa918S",
      "include_colab_link": true
    },
    "kernelspec": {
      "name": "python3",
      "display_name": "Python 3"
    },
    "language_info": {
      "name": "python"
    }
  },
  "cells": [
    {
      "cell_type": "markdown",
      "metadata": {
        "id": "view-in-github",
        "colab_type": "text"
      },
      "source": [
        "<a href=\"https://colab.research.google.com/github/Thilagavijayan/Python_Examples_from_basics/blob/main/Session_6_While_loop.ipynb\" target=\"_parent\"><img src=\"https://colab.research.google.com/assets/colab-badge.svg\" alt=\"Open In Colab\"/></a>"
      ]
    },
    {
      "cell_type": "markdown",
      "source": [
        "1. Print 0 - 9 using while loop\n",
        "2. Print 5 -1 using decrement operator\n",
        "3. Print 5 -1 with else block\n",
        "\n"
      ],
      "metadata": {
        "id": "J27fIj4P0DFe"
      }
    },
    {
      "cell_type": "code",
      "execution_count": null,
      "metadata": {
        "colab": {
          "base_uri": "https://localhost:8080/"
        },
        "id": "vwojMf9BwQVB",
        "outputId": "e3f65b0c-2ad6-40c6-ef0c-9359ac2ec219"
      },
      "outputs": [
        {
          "output_type": "stream",
          "name": "stdout",
          "text": [
            "0\n",
            "1\n",
            "2\n",
            "3\n",
            "4\n",
            "5\n",
            "6\n",
            "7\n",
            "8\n",
            "9\n"
          ]
        }
      ],
      "source": [
        "#Print 0-9 \n",
        "i = 0\n",
        "while i<10:\n",
        "  print(i)\n",
        "  i += 1 # i = i+1 #increment operator"
      ]
    },
    {
      "cell_type": "code",
      "source": [
        "# Printing the 5 - 1 using decrement operator\n",
        "i = 5\n",
        "while i>0:\n",
        "  print(i)\n",
        "  i -=1"
      ],
      "metadata": {
        "colab": {
          "base_uri": "https://localhost:8080/"
        },
        "id": "4IARWJOQ2UGK",
        "outputId": "b4834c35-3319-4d70-d3f3-c45f46fed549"
      },
      "execution_count": null,
      "outputs": [
        {
          "output_type": "stream",
          "name": "stdout",
          "text": [
            "5\n",
            "4\n",
            "3\n",
            "2\n",
            "1\n"
          ]
        }
      ]
    },
    {
      "cell_type": "code",
      "source": [
        "# printing the 5 - 1 with else block\n",
        "i = 5\n",
        "while i>0:\n",
        "  print(i)\n",
        "  i -=1\n",
        "else:\n",
        "  print(\"in else block\")\n",
        "print(\"out from loop\")\n",
        "\n"
      ],
      "metadata": {
        "colab": {
          "base_uri": "https://localhost:8080/"
        },
        "id": "sinNZmUR2yll",
        "outputId": "1ab3dbe0-be57-405c-8a22-e8b78b7fac4e"
      },
      "execution_count": null,
      "outputs": [
        {
          "output_type": "stream",
          "name": "stdout",
          "text": [
            "5\n",
            "4\n",
            "3\n",
            "2\n",
            "1\n",
            "in else block\n",
            "out from loop\n"
          ]
        }
      ]
    },
    {
      "cell_type": "code",
      "source": [
        "\n",
        "#\n",
        "i = 5\n",
        "while i > 0: #5>0 #4>0 #3>0\n",
        "  print(i) #-->5 #-->4\n",
        "  i -=1 # 4 #3 \n",
        "  if i == 3:\n",
        "    pass\n",
        "else:\n",
        "  print(\"in else block\")\n",
        "print(\"out from loop\")"
      ],
      "metadata": {
        "colab": {
          "base_uri": "https://localhost:8080/"
        },
        "id": "8ByYX_VP4Jay",
        "outputId": "950b2ea8-a360-4590-bffd-32d48bc5da7e"
      },
      "execution_count": null,
      "outputs": [
        {
          "output_type": "stream",
          "name": "stdout",
          "text": [
            "5\n",
            "4\n",
            "3\n",
            "2\n",
            "1\n",
            "in else block\n",
            "out from loop\n"
          ]
        }
      ]
    }
  ]
}